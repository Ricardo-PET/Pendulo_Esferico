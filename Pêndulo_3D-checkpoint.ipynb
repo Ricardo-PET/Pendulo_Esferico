{
 "cells": [
  {
   "cell_type": "markdown",
   "metadata": {},
   "source": [
    "# Caos no pêndulo amortecido forçado\n",
    "\n",
    "- PET - Física UFRN\n",
    "- Petiano: Ricardo C. S. Rêgo\n",
    "- Data: 19/08/20\n",
    "\n",
    "O objetivo deste projeto é simular um pêndulo esférico, com o movimento contido em um determinado intervalo de theta. Ele foi escrito em Python e usará conceitos de Física computacional na resolução de EDOs, portanto requer um conhecimento prévio no assunto para a melhor compreensão [1]. O problema foi inspirado na clássica solução da Lagrangiana para um pêndulo esférico.\n",
    "\n",
    "**Importando as bibliotecas:**"
   ]
  },
  {
   "cell_type": "code",
   "execution_count": 49,
   "metadata": {},
   "outputs": [],
   "source": [
    "from matplotlib import pyplot as plt\n",
    "import numpy as np\n",
    "import mpl_toolkits.mplot3d.axes3d as p3\n",
    "from matplotlib import animation\n",
    "from IPython.display import Image"
   ]
  },
  {
   "cell_type": "markdown",
   "metadata": {},
   "source": [
    "**Encontrando as EDOs**\n",
    "\n",
    "Primeiramente vamos considerar um sistema de coordenadas esféricas tal qual o seguinte:\n",
    "<img src=\"004penduloesferico.jpg\">\n",
    "Nele, a origem dos eixos coordenados coincidem no ponto de intersecção entre eles. Além disso, vamos considerar que o pêndulo oscila em um campo gravitacional $\\textbf{g}$ com o $r = l$, onde $l$ seria o comprimento constante da barra que segura o peso de massa $m$ no ponto $P$.\n",
    "\n",
    "Um elemento de linha em coordenadas esféricas é dado por $d\\textbf{s}$, onde $\\textbf{$e_{r}$}$, $\\textbf{$e_{\\theta}$}$, $\\textbf{$e_{\\phi}$}$ são os versores em coordenadas esféricas:\n",
    "\n",
    "$$d\\textbf{s} = dr \\textbf{$e_{r}$} + rd \\theta \\textbf{$e_{\\theta}$} + rsin(\\theta)d\\phi \\textbf{$e_{\\phi}$}$$"
   ]
  },
  {
   "cell_type": "markdown",
   "metadata": {},
   "source": [
    "Dividindo por $dt$ nós encontramos a velocidade $\\textbf{v}$ em coordenadas esféricas. Seu módulo é dado por $v$:\n",
    "\n",
    "$$\\textbf{v} = \\dot{\\textbf{s}} = \\dot{r} \\textbf{$e_{r}$} + r \\dot{\\theta} \\textbf{$e_{\\theta}$} + r\\dot{\\phi}sin(\\theta) \\textbf{$e_{\\phi}$}$$"
   ]
  },
  {
   "cell_type": "markdown",
   "metadata": {},
   "source": [
    "$$v^2 = \\dot{r}^2 + (r \\dot{\\theta})^2 + (r \\dot{\\phi} sin (\\theta))^2$$\n",
    "\n",
    "A lagrangiana e as energia cinética e potencial gravitacional, nesta ordem, são dados por: \n",
    "\n",
    "$$\\mathcal{L} = \\textbf{T} - \\textbf{V} $$\n",
    "$$\\textbf{T} = \\dfrac{m v^2}{2}$$\n",
    "$$\\textbf{V} = mgh$$\n",
    "\n",
    "Se considerarmos que a energia potencial gravitacional é zero quando o pêndulo estiver no seu ponto mais baixo, a altura representada pelo termo $h$ pode ser encontrado a partir da relação $h = l-lcos(\\theta) = l(1-cos(\\theta))$. Substituindo a relação de $h$ na equação para a energia potencial:\n",
    "\n",
    "$$\\textbf{V} = mgl(1-cos(\\theta))$$\n",
    "\n",
    "Como $r = l$, e $l$ é constante, então $\\dot{r} = \\dot{l} = 0$. Substituindo o $v^2$ na equação para a energia cinética da partícula em $P$, temos:\n",
    "\n",
    "$$\\textbf{T} = \\dfrac{m}{2}((l \\dot{\\theta})^2 + (l \\dot{\\phi} sin (\\theta)^2)$$\n",
    "\n",
    "Desta forma, a lagrangiana é dada por:\n",
    "\n",
    "$$\\mathcal{L} = \\dfrac{m}{2}((l \\dot{\\theta})^2 + (l \\dot{\\phi} sin (\\theta))^2)- mgl(1-cos(\\theta)) $$\n",
    "\n",
    "A equação de Euler para coordenadas genéricas $q_i$ é:\n",
    "\n",
    "$$\\dfrac{\\partial \\mathcal{L}}{\\partial q_i}-\\dfrac{d}{dt}\\dfrac{\\partial \\mathcal{L}}{\\partial \\dot{q}_i} = 0$$\n",
    "\n",
    "Resolvendo a equação de euler para $q_i = \\theta$:\n",
    "\n",
    "$$\\dfrac{\\partial \\mathcal{L}}{\\partial \\theta} - \\dfrac{d}{dt} \\dfrac{\\partial \\mathcal{L}}{\\partial \\dot{\\theta}} = 0$$"
   ]
  },
  {
   "cell_type": "markdown",
   "metadata": {},
   "source": [
    "$$\\dfrac{\\partial \\mathcal{L}}{\\partial \\theta} = m l^2 \\dot{\\phi}^2 sin(\\theta)cos(\\theta) - mglsin(\\theta)$$"
   ]
  },
  {
   "cell_type": "markdown",
   "metadata": {},
   "source": [
    "$$\\dfrac{\\partial \\mathcal{L}}{\\partial \\dot{\\theta}} = m l^2 \\dot{\\theta}$$"
   ]
  },
  {
   "cell_type": "markdown",
   "metadata": {},
   "source": [
    "$$\\dfrac{d}{dt} \\dfrac{\\partial \\mathcal{L}}{\\partial \\dot{\\theta}} = m l^2 \\ddot{\\theta}$$\n",
    "\n",
    "Logo:\n",
    "\n",
    "$$\\dfrac{\\partial \\mathcal{L}}{\\partial \\theta} - \\dfrac{d}{dt} \\dfrac{\\mathcal{L}}{\\partial \\dot{\\theta}} = m l^2 \\dot{\\phi}^2 sin(\\theta)cos(\\theta) - mglsin(\\theta)  - m l^2 \\ddot{\\theta} = 0$$"
   ]
  },
  {
   "cell_type": "markdown",
   "metadata": {},
   "source": [
    "$$\\ddot{\\theta} = \\dot{\\phi}^2 sin(\\theta)cos(\\theta) - \\dfrac{g}{l}sin(\\theta)$$\n",
    "\n",
    "Resolvendo a equação de euler para $q_i = \\phi$:\n",
    "\n",
    "$$\\dfrac{\\partial \\mathcal{L}}{\\partial \\phi} - \\dfrac{d}{dt} \\dfrac{\\partial \\mathcal{L}}{\\partial \\dot{\\phi}} = 0$$"
   ]
  },
  {
   "cell_type": "markdown",
   "metadata": {},
   "source": [
    "$$\\dfrac{\\partial \\mathcal{L}}{\\partial \\phi} = 0$$"
   ]
  },
  {
   "cell_type": "markdown",
   "metadata": {},
   "source": [
    "$$\\dfrac{\\partial \\mathcal{L}}{\\partial \\dot{\\phi}} = m l^2 \\dot{\\phi} sin^2(\\theta)$$"
   ]
  },
  {
   "cell_type": "markdown",
   "metadata": {},
   "source": [
    "$$\\dfrac{d}{dt} \\dfrac{\\partial \\mathcal{L}}{\\partial \\dot{\\phi}} = m l^2 \\ddot{\\phi} sin^2 (\\theta) + 2m l^2 \\dot{\\phi} \\dot{\\theta}sin(\\theta)cos(\\theta)$$"
   ]
  },
  {
   "cell_type": "markdown",
   "metadata": {},
   "source": [
    "$$\\dfrac{\\partial \\mathcal{L}}{\\partial \\phi} - \\dfrac{d}{dt} \\dfrac{\\partial \\mathcal{L}}{\\partial \\dot{\\phi}} = -m l^2 \\ddot{\\phi} sin^2 (\\theta) - 2m l^2 \\dot{\\phi} \\dot{\\theta}sin(\\theta)cos(\\theta)) = 0$$\n",
    "\n",
    "Logo:\n",
    "\n",
    "$$\\ddot{\\phi} = -2 \\dot{\\theta} \\dot{\\phi} \\dfrac{cos(\\theta)}{sin(\\theta)}$$\n",
    "\n",
    "Sobre esta equação, podemos notar que $\\ddot{\\phi}$ é proporcional a um termo $\\dfrac{1}{sin(\\theta)}$, ou seja, se $sin(\\theta) = 0$ a segunda derivada com relação ao tempo de $\\phi$ vai divergir. Na verdade, como pretendemos resolver esta equação analiticamente, e o computador só usa um número finito de casas decimais máximo, se o valor de $sin(\\theta)$ apenas se aproximar de zero esta EDO vai divergir. Por causa disso, devemos impor limites quando $\\theta$ está próximo de zero, ou quando $\\theta$ está próximo de $\\pi$.\n",
    "\n",
    "Finalmente, a tragetória do pêndulo esférico pode ser encontrada solucionando as seguintes EDOs (considerando seus devidos limites):\n",
    "\n",
    "$$\\ddot{\\theta} = \\dot{\\phi}^2 sin(\\theta)cos(\\theta) - \\dfrac{g}{l}sin(\\theta)$$"
   ]
  },
  {
   "cell_type": "markdown",
   "metadata": {},
   "source": [
    "$$\\ddot{\\phi} = -2 \\dot{\\theta} \\dot{\\phi} \\dfrac{cos(\\theta)}{sin(\\theta)}$$\n",
    "\n",
    "Posteriormente, quando encontrarmos as soluções para o $\\theta$ e $\\phi$, vamos precisar encontrar o equivalente em coordenadas cartesianas, para isso vamos precisar das transformações:\n",
    "\n",
    "$$x = r sin(\\theta)cos(\\phi)$$"
   ]
  },
  {
   "cell_type": "markdown",
   "metadata": {},
   "source": [
    "$$y = r sin(\\theta)sin(\\phi)$$"
   ]
  },
  {
   "cell_type": "markdown",
   "metadata": {},
   "source": [
    "$$z = r cos(\\theta)$$\n",
    "\n",
    "**Criando uma função com as EDOs**\n",
    "\n",
    "A função f recebe os valores de $\\theta$, $\\dot{\\theta}$, $\\phi$ e $\\dot{\\phi}$, e atualiza os valores de $\\ddot{\\theta}$ e $\\ddot{\\phi}$."
   ]
  },
  {
   "cell_type": "code",
   "execution_count": 50,
   "metadata": {},
   "outputs": [],
   "source": [
    "def f(r,t):\n",
    "    theta,theta1p,phi,phi1p = r[0],r[1],r[2],r[3]\n",
    "    \n",
    "    theta2p = np.sin(theta)*np.cos(theta)*phi1p**2 -(g/l)*np.sin(theta)\n",
    "    phi2p = -2*theta1p*phi1p*np.cos(theta)/np.sin(theta)\n",
    "    return np.array([theta1p,theta2p,phi1p,phi2p])"
   ]
  },
  {
   "cell_type": "markdown",
   "metadata": {},
   "source": [
    "**Criando uma função para o método Runge Kutta:**\n",
    "\n",
    "O método Runge Kutta de quarta ordem, como dito anteriormente, é um método computacional bastante preciso, usado para resolver equações diferenciais. Na verdade, ele é um conjunto de métodos para resolver EDOs, que incluem por exemplo o método de Euler. Seu funcionamento basicamente consiste em receber dados iniciais de uma função e dizer onde ela estará no passo seguinte."
   ]
  },
  {
   "cell_type": "code",
   "execution_count": 51,
   "metadata": {},
   "outputs": [],
   "source": [
    "def RK4(r,t):\n",
    "    k1 = h*f(r,t)\n",
    "    k2 = h*f(r+k1/2,t+h/2)\n",
    "    k3 = h*f(r+k2/2,t+h/2)\n",
    "    k4 = h*f(r+k3,t+h)\n",
    "    return r + (1/6)*(k1+2*k2+2*k3+k4)"
   ]
  },
  {
   "cell_type": "markdown",
   "metadata": {},
   "source": [
    "**Definindo os parâmetros e constantes**\n",
    "\n",
    "Vamos considerar que a simulação começa no tempo \"a\" e acaba no tempo \"b\", além disso ela terá \"N\" iterações, cada uma com um passo de tempo \"h\". Além disso, vamos considerar o $l = 1$ e $g = 9.81$."
   ]
  },
  {
   "cell_type": "code",
   "execution_count": 52,
   "metadata": {},
   "outputs": [],
   "source": [
    "a = 0\n",
    "b = 15\n",
    "l = 1\n",
    "g = 9.81\n",
    "N = 600\n",
    "h = (b-a)/N\n",
    "t = a"
   ]
  },
  {
   "cell_type": "markdown",
   "metadata": {},
   "source": [
    "Para cada passo da simulação, vamos salvar os valores de $\\theta$ e $\\phi$ nas lista \"Theta\" e \"Phi\", assim eles poderam ser usados posteriormente para criarmos uma animação para o movimento do pêndulo. Além disso vamos criar o array \"r\", que guardará os valores de $\\theta$, $\\dot{\\theta}$, $\\phi$ e $\\dot{\\phi}$ do passo atual. Com relação as condições iniciais, vamos escolher o pêndulo começando de uma altura angular de $\\theta = \\dfrac{5\\pi}{6}$, e uma velocidade angular $\\phi = 2$."
   ]
  },
  {
   "cell_type": "code",
   "execution_count": 53,
   "metadata": {},
   "outputs": [],
   "source": [
    "theta, theta1p, phi, phi1p = 5*np.pi/6, 0.0, 0.0, 2\n",
    "Theta = []\n",
    "Phi = []\n",
    "r = np.array([theta, theta1p, phi, phi1p])"
   ]
  },
  {
   "cell_type": "markdown",
   "metadata": {},
   "source": [
    "**Resolvendo as EDOs**\n",
    "\n",
    "Como dito anteriormente, devemos impor limites aos valores de $\\theta$ para que eles não façam o termo $sin(\\theta)$ se aproximar de zero, para isso, vamos considerar $\\dfrac{\\pi}{6} < \\theta < \\dfrac{5\\pi}{6}$. Quando o pêndulo sair desta restrição, a velocidade $\\dot{\\theta}$ deve mudar de sentido, fazendo o pêndulo voltar."
   ]
  },
  {
   "cell_type": "code",
   "execution_count": 54,
   "metadata": {},
   "outputs": [],
   "source": [
    "a = np.pi/6\n",
    "while(t<b):\n",
    "    Theta.append(r[0])\n",
    "    Phi.append(r[2])\n",
    "    if(abs(r[0]) <= a):\n",
    "        r[1] = -r[1]\n",
    "    if(abs(r[0]) >= (np.pi-a)):\n",
    "        r[1] = -r[1]\n",
    "    r = RK4(r,t) \n",
    "    t+=h"
   ]
  },
  {
   "cell_type": "markdown",
   "metadata": {},
   "source": [
    "**Preparando a animação**\n",
    "\n",
    "Antes de qualquer coisa, vamos chamar a função figure (que é necessária para criar os eventos da animação) e a função Axes3D, entretanto, como não queremos muitas informações na tela, vamos desligar a imagem dos eixos com a função axis('off'). Para limitar a animação uzamos as funções set_xlim3d (e suas variações para cada eixo), centralizando a imagem na animação no movimento do pêndulo de raio $l = 1$. \n",
    "\n",
    "Além disso, para melhor visualizarmos o pêndulo em três dimensões, vamos criar uma grade esféricas de raio $l$, sobre a qual o ponto $P$ pode se deslocar. Para isso, considere $\\phi = u$ e $\\theta = v$, estes variando entre $0 < u < 2\\pi$ e $0 < \\pi$. Como precisamos de uma grade, vamos usar a função mgrid para dividir estes interalos de ângulo em intervalos menores de 25j. Para plotar esta grande posteriormente, vamos salvar as posições da grade em coordenadas cardesianas usando \"x1\", \"y1\", \"z1\"."
   ]
  },
  {
   "cell_type": "code",
   "execution_count": 55,
   "metadata": {},
   "outputs": [],
   "source": [
    "fig = plt.figure()\n",
    "ax = p3.Axes3D(fig)\n",
    "plt.axis('off')\n",
    "\n",
    "ax.set_xlim3d([-1.0, 1.0])\n",
    "ax.set_ylim3d([-1.0, 1.0])\n",
    "ax.set_zlim3d([-1.0, 1.0])\n",
    "\n",
    "u, v = np.mgrid[0:2*np.pi:25j, 0:np.pi:25j]\n",
    "x1 = l*np.cos(u)*np.sin(v)\n",
    "y1 = l*np.sin(u)*np.sin(v)\n",
    "z1 = l*np.cos(v)"
   ]
  },
  {
   "cell_type": "markdown",
   "metadata": {},
   "source": [
    "Agora vamos criar o ponto $P$, uma linha entre $(0,0,0)$ e $(r,\\theta,\\phi)$, que representa a barra de tamanho $l$, e uma linha para ser o rastro do ponto $P$ (para melhor visualizar o movimento geral do pêndulo). Estes termos vão ser atualizados quando chamarmos a função FuncAnimation. Além disso, vamos criar listas com as posições do pêndulo em coordenadas cartesianas \"x\", \"y\" e \"z\"."
   ]
  },
  {
   "cell_type": "code",
   "execution_count": 56,
   "metadata": {},
   "outputs": [],
   "source": [
    "point, = ax.plot([],[], '.', color='b')\n",
    "line, = ax.plot([],[],'-', color='k',lw=2)\n",
    "trace, = ax.plot([],[],'-', color = 'r', lw=2,alpha=0.5)\n",
    "\n",
    "x, y, z = l*np.sin(Theta)*np.cos(Phi), l*np.sin(Theta)*np.sin(Phi),-l*np.cos(Theta)"
   ]
  },
  {
   "cell_type": "markdown",
   "metadata": {},
   "source": [
    "O processo de animação (atualização das posições do ponto e retas) vai se dar por meio da função update_point. Ela vai pegar os dados encontrados na solução das EDOs, que foram salvos nas listas \"x\", \"y\" e \"z\" e os vão plotando para gerar o ponto $P$ e a barra de tamanho $l$. Além disso, para atualizar o rastro do ponto $P$, vamos considerar as ultimas 200 posições do ponto $P$ e plota-las."
   ]
  },
  {
   "cell_type": "code",
   "execution_count": 57,
   "metadata": {},
   "outputs": [],
   "source": [
    "def update_point(num, *fargs):\n",
    "    tracex, tracey, tracez = [],[],[]\n",
    "    new_x = np.array([0,x[int(num*n)]])\n",
    "    new_y = np.array([0,y[int(num*n)]])\n",
    "    new_z = np.array([0,z[int(num*n)]])\n",
    "    \n",
    "    for k in range(num, 1,-n):\n",
    "        tracex.append(x[k])\n",
    "        tracey.append(y[k])\n",
    "        tracez.append(z[k])\n",
    "        if len(tracex)>200:\n",
    "            break\n",
    "    line.set_data(new_x,new_y)\n",
    "    line.set_3d_properties(new_z, 'z')\n",
    "    point.set_data(new_x,new_y)\n",
    "    point.set_3d_properties(new_z, 'z')\n",
    "    trace.set_data(tracex, tracey)\n",
    "    trace.set_3d_properties(tracez, 'z')\n",
    "\n",
    "    return line,point,trace"
   ]
  },
  {
   "cell_type": "markdown",
   "metadata": {},
   "source": [
    "**Animando o pêndulo**\n",
    "\n",
    "Finalmente, vamos chamar as funções ax.plot_wireframe para criar a grade, e a função FuncAnimation para animar os objetos criados. OBS: Para visualizar no seu computador compile: %matplotlib qt"
   ]
  },
  {
   "cell_type": "code",
   "execution_count": 58,
   "metadata": {},
   "outputs": [],
   "source": [
    "ax.plot_wireframe(x1, y1, z1, color=\"gray\",alpha=0.2)\n",
    "ani=animation.FuncAnimation(fig, update_point,int(N/n), fargs = (x,y,z,n,trace), repeat= True, interval = 10**(-10))\n",
    "#plt.show()"
   ]
  },
  {
   "cell_type": "code",
   "execution_count": 59,
   "metadata": {},
   "outputs": [
    {
     "data": {
      "text/html": [
       "<img src=\"https://media.giphy.com/media/dwfNRxAQnMT8KgF1vl/giphy.gif\"/>"
      ],
      "text/plain": [
       "<IPython.core.display.Image object>"
      ]
     },
     "execution_count": 59,
     "metadata": {},
     "output_type": "execute_result"
    }
   ],
   "source": [
    "Image(url='https://media.giphy.com/media/dwfNRxAQnMT8KgF1vl/giphy.gif')"
   ]
  },
  {
   "cell_type": "markdown",
   "metadata": {},
   "source": [
    "**Pêndulo com $\\dot(\\phi)$ variável**\n",
    "\n",
    "Outra forma interessante de analizar o que pode ocorrer e um pêndulo esférico é adicionando funções aos seus parâmetros. Para que a energia interna do sistema não aumente ou diminua muito vamos usar uma função periódica como o cosseno. Vamos modular a função cosseno para que ela comece com o valor inicial de $\\dot(\\phi)$, varie, e no final do movimento em \"t\" = \"b\" ele volte a mesma velocidade angular inicial. As únicas mudanças necessárias no cógido vão ser adicionar um termo na resolução das EDOs de forma que \"r[3] = 2*np.cos(2*np.pi*t/b)+2\", e caso queira, diminuir o valor das posições do traço do ponto $P$ (Que no código original tem o valor de 200)."
   ]
  },
  {
   "cell_type": "code",
   "execution_count": 60,
   "metadata": {},
   "outputs": [],
   "source": [
    "a = np.pi/6\n",
    "while(t<b):\n",
    "    Theta.append(r[0])\n",
    "    Phi.append(r[2])\n",
    "    r[3] = (-np.cos(2*np.pi*t/b)+1)*phi1p  #Phiponto Variável\n",
    "    \n",
    "    if(abs(r[0]) <= a):\n",
    "        r[1] = -r[1]\n",
    "    if(abs(r[0]) >= (np.pi-a)):     \n",
    "        r[1] = -r[1]\n",
    "\n",
    "    r = RK4(r,t) \n",
    "    t+=h"
   ]
  },
  {
   "cell_type": "markdown",
   "metadata": {},
   "source": [
    "Assim, o pêndulo vai ficar com um movimento tal que:"
   ]
  },
  {
   "cell_type": "code",
   "execution_count": 61,
   "metadata": {},
   "outputs": [
    {
     "data": {
      "text/html": [
       "<img src=\"https://media.giphy.com/media/jXHARVRthySsoRvINX/giphy.gif\"/>"
      ],
      "text/plain": [
       "<IPython.core.display.Image object>"
      ]
     },
     "execution_count": 61,
     "metadata": {},
     "output_type": "execute_result"
    }
   ],
   "source": [
    "Image(url='https://media.giphy.com/media/jXHARVRthySsoRvINX/giphy.gif')"
   ]
  }
 ],
 "metadata": {
  "kernelspec": {
   "display_name": "Python 3",
   "language": "python",
   "name": "python3"
  },
  "language_info": {
   "codemirror_mode": {
    "name": "ipython",
    "version": 3
   },
   "file_extension": ".py",
   "mimetype": "text/x-python",
   "name": "python",
   "nbconvert_exporter": "python",
   "pygments_lexer": "ipython3",
   "version": "3.6.8"
  }
 },
 "nbformat": 4,
 "nbformat_minor": 2
}
